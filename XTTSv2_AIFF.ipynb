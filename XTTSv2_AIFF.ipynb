{
  "nbformat": 4,
  "nbformat_minor": 0,
  "metadata": {
    "colab": {
      "provenance": [],
      "gpuType": "T4"
    },
    "kernelspec": {
      "name": "python3",
      "display_name": "Python 3"
    },
    "language_info": {
      "name": "python"
    },
    "accelerator": "GPU"
  },
  "cells": [
    {
      "cell_type": "markdown",
      "source": [
        "**Run next block, restart session when asked and run same block until everything installs.**\n",
        "\n",
        "Last message should be like this (yes, ignore ERROR)\n",
        "\n",
        "\n",
        "```\n",
        "ERROR: pip's dependency resolver does not currently take into account all the packages that are installed. This behaviour is the source of the following dependency conflicts.\n",
        "torchvision 0.19.0+cu121 requires torch==2.4.0, but you have torch 2.1.1+cu121 which is incompatible\n",
        "Successfully installed torch-2.1.1+cu121 torchaudio-2.1.1+cu121 triton-2.1.0\n",
        "\n",
        "```\n",
        "\n"
      ],
      "metadata": {
        "id": "FmMMJppi2-Gh"
      }
    },
    {
      "cell_type": "code",
      "execution_count": null,
      "metadata": {
        "id": "lT4ieCTnr_L7"
      },
      "outputs": [],
      "source": [
        "!apt-get update && apt-get install --no-install-recommends -y sox libsox-fmt-all curl wget gcc git git-lfs build-essential libaio-dev libsndfile1 ssh ffmpeg sshpass portaudio19-dev libportaudio2\n",
        "!git clone https://github.com/abeiro/xtts-api-server\n",
        "%cd xtts-api-server\n",
        "!python3 -m pip install --upgrade pip wheel ninja virtualenv\n",
        "!pip install setuptools==68.1.2\n",
        "!pip install deepspeed\n",
        "!pip install -r requirements.txt\n",
        "!pip install torch==2.1.1+cu121 torchaudio==2.1.1+cu121 --index-url https://download.pytorch.org/whl/cu121"
      ]
    },
    {
      "cell_type": "markdown",
      "source": [
        "**Run this once to get model downloaded and deepspeed compiled. Once uvicorn starts, stop and proceed to next block**\n",
        "\n",
        "\n",
        "\n"
      ],
      "metadata": {
        "id": "u1Ir_s5U3ZcT"
      }
    },
    {
      "cell_type": "code",
      "source": [
        "!python3 -m xtts_api_server --listen --deepspeed"
      ],
      "metadata": {
        "id": "Xs5dXNL43VFB"
      },
      "execution_count": null,
      "outputs": []
    },
    {
      "cell_type": "markdown",
      "source": [
        "**Run and note cloudflare address. Wait for message:**\n",
        "\n",
        "```\n",
        "INFO:     Uvicorn running on http://0.0.0.0:8020 (Press CTRL+C to quit)\n",
        "\n",
        "```\n",
        "\n",
        "Use http://generated-domain-name:80 in AI-FF conf.\n",
        "\n"
      ],
      "metadata": {
        "id": "xOowr61z3nT2"
      }
    },
    {
      "cell_type": "code",
      "source": [
        "#Run\n",
        "!rm nohup.out\n",
        "!wget -c https://github.com/cloudflare/cloudflared/releases/latest/download/cloudflared-linux-amd64 -O cloudflared-linux-amd64\n",
        "!chmod +x cloudflared-linux-amd64\n",
        "!nohup ./cloudflared-linux-amd64 tunnel --url http://localhost:8020 &\n",
        "!sleep 8\n",
        "!cat nohup.out\n",
        "!python3 -m xtts_api_server --listen --deepspeed"
      ],
      "metadata": {
        "id": "xuLmVnEW2PYM"
      },
      "execution_count": null,
      "outputs": []
    }
  ]
}